{
 "cells": [
  {
   "cell_type": "code",
   "execution_count": 4,
   "id": "5d77011b-b87d-4e9d-a668-a1cb63e092c9",
   "metadata": {
    "tags": []
   },
   "outputs": [
    {
     "name": "stdin",
     "output_type": "stream",
     "text": [
      "Enter lower bound value: 8\n",
      "Enter upper bound value: 40\n",
      "Your guess is:  27\n"
     ]
    },
    {
     "name": "stdout",
     "output_type": "stream",
     "text": [
      "Your guess is too big, try lower!\n"
     ]
    },
    {
     "name": "stdin",
     "output_type": "stream",
     "text": [
      "Your guess is:  18\n"
     ]
    },
    {
     "name": "stdout",
     "output_type": "stream",
     "text": [
      "Your guess is too small, try bigger!\n"
     ]
    },
    {
     "name": "stdin",
     "output_type": "stream",
     "text": [
      "Your guess is:  22\n"
     ]
    },
    {
     "name": "stdout",
     "output_type": "stream",
     "text": [
      "Your guess is too big, try lower!\n"
     ]
    },
    {
     "name": "stdin",
     "output_type": "stream",
     "text": [
      "Your guess is:  20\n"
     ]
    },
    {
     "name": "stdout",
     "output_type": "stream",
     "text": [
      "Your guess is too big, try lower!\n"
     ]
    },
    {
     "name": "stdin",
     "output_type": "stream",
     "text": [
      "Your guess is:  19\n"
     ]
    },
    {
     "name": "stdout",
     "output_type": "stream",
     "text": [
      "You got it right!\n"
     ]
    }
   ],
   "source": [
    "#### import random\n",
    "import math\n",
    "\n",
    "#taking inputs\n",
    "lower = int(input('Enter lower bound value:'))\n",
    "upper = int(input('Enter upper bound value:'))\n",
    "\n",
    "#generate a random number between the 2 bounds\n",
    "x = random.randint(lower, upper)\n",
    "\n",
    "\n",
    "#initiliazing counter of guesses\n",
    "counter = 0\n",
    "\n",
    "while (x != guess):\n",
    "    counter += 1\n",
    "#guess number\n",
    "    guess = int(input('Your guess is: '))\n",
    "    if x == guess:\n",
    "        print('You got it right in', counter, 'tries !')\n",
    "        break\n",
    "    elif guess > x:\n",
    "        print('Your guess is too big, try lower!')\n",
    "    elif guess < x:\n",
    "        print('Your guess is too small, try bigger!')"
   ]
  },
  {
   "cell_type": "code",
   "execution_count": null,
   "id": "9f95e6c9-57a9-4dce-8e68-31e235102828",
   "metadata": {},
   "outputs": [],
   "source": []
  }
 ],
 "metadata": {
  "kernelspec": {
   "display_name": "Python 3 (ipykernel)",
   "language": "python",
   "name": "python3"
  },
  "language_info": {
   "codemirror_mode": {
    "name": "ipython",
    "version": 3
   },
   "file_extension": ".py",
   "mimetype": "text/x-python",
   "name": "python",
   "nbconvert_exporter": "python",
   "pygments_lexer": "ipython3",
   "version": "3.10.4"
  }
 },
 "nbformat": 4,
 "nbformat_minor": 5
}
