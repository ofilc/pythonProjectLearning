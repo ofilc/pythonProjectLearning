{
 "cells": [
  {
   "cell_type": "code",
   "execution_count": 24,
   "id": "38224541-694d-467b-ab50-7c3fb1876219",
   "metadata": {},
   "outputs": [
    {
     "name": "stdin",
     "output_type": "stream",
     "text": [
      "Whats your name ? olia\n"
     ]
    },
    {
     "name": "stdout",
     "output_type": "stream",
     "text": [
      "Welcome  olia  lets guess todays word!\n",
      "milk\n",
      "_ _ _ _ "
     ]
    },
    {
     "name": "stdin",
     "output_type": "stream",
     "text": [
      "Guess a letter: m\n"
     ]
    },
    {
     "name": "stdout",
     "output_type": "stream",
     "text": [
      "m _ _ _ "
     ]
    },
    {
     "name": "stdin",
     "output_type": "stream",
     "text": [
      "Guess a letter: h\n"
     ]
    },
    {
     "name": "stdout",
     "output_type": "stream",
     "text": [
      "You have  9  left!\n",
      "m _ _ _ "
     ]
    },
    {
     "name": "stdin",
     "output_type": "stream",
     "text": [
      "Guess a letter: l\n"
     ]
    },
    {
     "name": "stdout",
     "output_type": "stream",
     "text": [
      "m _ l _ "
     ]
    },
    {
     "name": "stdin",
     "output_type": "stream",
     "text": [
      "Guess a letter: u\n"
     ]
    },
    {
     "name": "stdout",
     "output_type": "stream",
     "text": [
      "You have  8  left!\n",
      "m _ l _ "
     ]
    },
    {
     "name": "stdin",
     "output_type": "stream",
     "text": [
      "Guess a letter: l\n"
     ]
    },
    {
     "name": "stdout",
     "output_type": "stream",
     "text": [
      "m _ l _ "
     ]
    },
    {
     "name": "stdin",
     "output_type": "stream",
     "text": [
      "Guess a letter: k\n"
     ]
    },
    {
     "name": "stdout",
     "output_type": "stream",
     "text": [
      "m _ l k "
     ]
    },
    {
     "name": "stdin",
     "output_type": "stream",
     "text": [
      "Guess a letter: i\n"
     ]
    },
    {
     "name": "stdout",
     "output_type": "stream",
     "text": [
      "m i l k You're correct! The word is  milk\n"
     ]
    }
   ],
   "source": [
    "import random\n",
    "import numpy as np\n",
    "\n",
    "\n",
    "#define function to perform matching of characters\n",
    "def word_letter_match (word, letter):\n",
    "    new_word = ''\n",
    "    correct_guess = 0\n",
    "    \n",
    "    for i, v in enumerate(word):\n",
    "        if letter == v:\n",
    "            new_word = new_word + letter\n",
    "        else:\n",
    "            new_word = new_word + ' _ '\n",
    "    print(new_word)\n",
    "    \n",
    "    \n",
    "    \n",
    "\n",
    "#define list of words\n",
    "wordlist = np.array(['blue', 'cat', 'dog', 'milk', 'love', 'lion', 'zebra', 'mouse', 'food', 'banana', 'monday', 'holiday'])\n",
    "\n",
    "#get user name\n",
    "user_name = input('What''s your name ?')\n",
    "print ('Welcome ', user_name, ' let''s guess today''s word!')\n",
    "\n",
    "\n",
    "#select random word\n",
    "random_word = random.choice(wordlist)\n",
    "print(random_word)\n",
    "\n",
    "#define number of trys\n",
    "tries= 10\n",
    "guesses = ''\n",
    "\n",
    "#collect input letters\n",
    "\n",
    "while tries > 0:\n",
    "    failed = 0\n",
    "    for char in random_word:\n",
    "        if char in guesses:\n",
    "            print(char, end = ' ')\n",
    "        else:\n",
    "            print('_', end = ' ')\n",
    "            failed += 1\n",
    "    if failed == 0:\n",
    "        print ('You\\'re correct! The word is ', random_word)\n",
    "        break\n",
    "        \n",
    "    guess = input('Guess a letter:')\n",
    "    guesses += guess\n",
    "    \n",
    "    if guess not in random_word:\n",
    "        tries -= 1\n",
    "        print('You have ', tries, ' left!')\n",
    "        if tries == 0:\n",
    "            print ('Game over!')\n",
    "    #word_letter_match(random_word, guess)\n",
    "    \n",
    "\n",
    "\n",
    "    \n",
    "\n",
    "\n",
    "                  \n",
    "                  \n",
    "\n",
    "\n"
   ]
  },
  {
   "cell_type": "raw",
   "id": "b93cba00-470b-494f-a0a4-98f21c674cf1",
   "metadata": {},
   "source": []
  },
  {
   "cell_type": "code",
   "execution_count": null,
   "id": "1e6cbdd9-6ea3-44ec-877e-5dc0b6a1f80b",
   "metadata": {},
   "outputs": [],
   "source": []
  }
 ],
 "metadata": {
  "kernelspec": {
   "display_name": "Python 3 (ipykernel)",
   "language": "python",
   "name": "python3"
  },
  "language_info": {
   "codemirror_mode": {
    "name": "ipython",
    "version": 3
   },
   "file_extension": ".py",
   "mimetype": "text/x-python",
   "name": "python",
   "nbconvert_exporter": "python",
   "pygments_lexer": "ipython3",
   "version": "3.10.4"
  }
 },
 "nbformat": 4,
 "nbformat_minor": 5
}
