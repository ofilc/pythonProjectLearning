{
 "cells": [
  {
   "cell_type": "code",
   "execution_count": 1,
   "id": "e69b5931-4527-4339-9f4f-d8cf24384306",
   "metadata": {},
   "outputs": [
    {
     "name": "stdout",
     "output_type": "stream",
     "text": [
      "{\"DATA\":[{\"ID\":1,\"NAME\":\"SOCCER\"},{\"ID\":2,\"NAME\":\"TENNIS\"},{\"ID\":3,\"NAME\":\"BASKETBALL\"},{\"ID\":4,\"NAME\":\"HOCKEY\"},{\"ID\":5,\"NAME\":\"AMERICAN_FOOTBALL\"},{\"ID\":6,\"NAME\":\"BASEBALL\"},{\"ID\":7,\"NAME\":\"HANDBALL\"},{\"ID\":8,\"NAME\":\"RUGBY_UNION\"},{\"ID\":9,\"NAME\":\"FLOORBALL\"},{\"ID\":10,\"NAME\":\"BANDY\"},{\"ID\":11,\"NAME\":\"FUTSAL\"},{\"ID\":12,\"NAME\":\"VOLLEYBALL\"},{\"ID\":13,\"NAME\":\"CRICKET\"},{\"ID\":14,\"NAME\":\"DARTS\"},{\"ID\":15,\"NAME\":\"SNOOKER\"},{\"ID\":16,\"NAME\":\"BOXING\"},{\"ID\":17,\"NAME\":\"BEACH_VOLLEYBALL\"},{\"ID\":18,\"NAME\":\"AUSSIE_RULES\"},{\"ID\":19,\"NAME\":\"RUGBY_LEAGUE\"},{\"ID\":21,\"NAME\":\"BADMINTON\"},{\"ID\":22,\"NAME\":\"WATER_POLO\"},{\"ID\":23,\"NAME\":\"GOLF\"},{\"ID\":24,\"NAME\":\"FIELD_HOCKEY\"},{\"ID\":25,\"NAME\":\"TABLE_TENNIS\"},{\"ID\":26,\"NAME\":\"BEACH_SOCCER\"},{\"ID\":28,\"NAME\":\"MMA\"},{\"ID\":29,\"NAME\":\"NETBALL\"},{\"ID\":30,\"NAME\":\"PESAPALLO\"},{\"ID\":31,\"NAME\":\"MOTORSPORT\"},{\"ID\":32,\"NAME\":\"AUTORACING\"},{\"ID\":33,\"NAME\":\"MOTORACING\"},{\"ID\":34,\"NAME\":\"CYCLING\"},{\"ID\":35,\"NAME\":\"HORSE_RACING\"},{\"ID\":36,\"NAME\":\"ESPORTS\"},{\"ID\":37,\"NAME\":\"WINTER_SPORTS\"},{\"ID\":38,\"NAME\":\"SKI_JUMPING\"},{\"ID\":39,\"NAME\":\"ALPINE_SKIING\"},{\"ID\":40,\"NAME\":\"CROSS_COUNTRY\"},{\"ID\":41,\"NAME\":\"BIATHLON\"},{\"ID\":42,\"NAME\":\"KABADDI\"}]}\n"
     ]
    }
   ],
   "source": [
    "import requests\n",
    "\n",
    "url = \"https://flashscore.p.rapidapi.com/v1/sports/list\"\n",
    "\n",
    "headers = {\n",
    "\t\"X-RapidAPI-Host\": \"flashscore.p.rapidapi.com\",\n",
    "\t\"X-RapidAPI-Key\": \"2d57ad82ccmsh6f324905b2d36a9p1c0a93jsnb202c76d5fda\"\n",
    "}\n",
    "\n",
    "response = requests.request(\"GET\", url, headers=headers)\n",
    "\n",
    "print(response.text)"
   ]
  },
  {
   "cell_type": "code",
   "execution_count": null,
   "id": "6f0997db-436c-41ec-afa6-f8d7db944931",
   "metadata": {},
   "outputs": [],
   "source": []
  }
 ],
 "metadata": {
  "kernelspec": {
   "display_name": "Python 3 (ipykernel)",
   "language": "python",
   "name": "python3"
  },
  "language_info": {
   "codemirror_mode": {
    "name": "ipython",
    "version": 3
   },
   "file_extension": ".py",
   "mimetype": "text/x-python",
   "name": "python",
   "nbconvert_exporter": "python",
   "pygments_lexer": "ipython3",
   "version": "3.10.4"
  }
 },
 "nbformat": 4,
 "nbformat_minor": 5
}
