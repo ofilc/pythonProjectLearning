{
 "cells": [
  {
   "cell_type": "code",
   "execution_count": 4,
   "id": "e0ae3c91-1b27-4793-ab2d-e1ecf4c56f07",
   "metadata": {},
   "outputs": [],
   "source": [
    "import sqlite3\n",
    "\n",
    "con = sqlite3.connect('TennisPrediction.db')\n"
   ]
  },
  {
   "cell_type": "code",
   "execution_count": 6,
   "id": "1f15dd0a-f9d9-4ef8-b355-78bde92987d4",
   "metadata": {},
   "outputs": [
    {
     "data": {
      "text/plain": [
       "<sqlite3.Cursor at 0x1120d6340>"
      ]
     },
     "execution_count": 6,
     "metadata": {},
     "output_type": "execute_result"
    }
   ],
   "source": [
    "cur = con.cursor()\n",
    "cur.execute('create table SportType(Id, Name)')"
   ]
  },
  {
   "cell_type": "code",
   "execution_count": null,
   "id": "6f11fafb-b1d2-4955-b866-45edaeb93d13",
   "metadata": {},
   "outputs": [],
   "source": []
  }
 ],
 "metadata": {
  "kernelspec": {
   "display_name": "Python 3 (ipykernel)",
   "language": "python",
   "name": "python3"
  },
  "language_info": {
   "codemirror_mode": {
    "name": "ipython",
    "version": 3
   },
   "file_extension": ".py",
   "mimetype": "text/x-python",
   "name": "python",
   "nbconvert_exporter": "python",
   "pygments_lexer": "ipython3",
   "version": "3.10.4"
  }
 },
 "nbformat": 4,
 "nbformat_minor": 5
}
